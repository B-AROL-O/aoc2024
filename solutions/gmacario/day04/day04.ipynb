{
 "cells": [
  {
   "cell_type": "markdown",
   "id": "e8c36490-ac44-4e4f-9fc3-97d15fbef673",
   "metadata": {},
   "source": [
    "# AoC 2024 - Day 4\n",
    "\n",
    "<https://adventofcode.com/2024/day/4>"
   ]
  },
  {
   "cell_type": "code",
   "execution_count": 1,
   "id": "6b7c6dc6-b77c-47e0-ac97-33f7f86c484c",
   "metadata": {},
   "outputs": [],
   "source": [
    "from icecream import ic"
   ]
  },
  {
   "cell_type": "code",
   "execution_count": 2,
   "id": "8c9a122d-1ba9-4bfd-b131-ee8e69c7d09f",
   "metadata": {},
   "outputs": [],
   "source": [
    "movements = {\n",
    "    \"N\":  ( 0,  1),   # Move UP\n",
    "    \"S\":  ( 0, -1),   # Move DOWN\n",
    "    \"E\":  ( 1,  0),   # Move EAST\n",
    "    \"W\":  (-1,  0),   # Move WEST\n",
    "    \"NE\": ( 1,  1),\n",
    "    \"NW\": (-1,  1),\n",
    "    \"SE\": ( 1, -1),\n",
    "    \"SW\": (-1, -1),\n",
    "}"
   ]
  },
  {
   "cell_type": "code",
   "execution_count": 3,
   "id": "992b746b-12f1-4576-ae26-f3c5d379c844",
   "metadata": {},
   "outputs": [],
   "source": [
    "def find_word_across(word, board, position, orientation):\n",
    "    \"\"\"\n",
    "    position: (x, y) - (0, 0) is lower left\n",
    "    \n",
    "    Return 1 if word was found, otherwise 0\n",
    "    \"\"\"\n",
    "    \n",
    "    # ic(word, board, position, orientation)\n",
    "\n",
    "    height = len(board)\n",
    "    width = len(board[0])\n",
    "    \n",
    "    assert position[0] >= 0 and position[0] < width, f\"{ic(word, board, position)}\"\n",
    "    assert position[1] >= 0 and position[1] < height, f\"{ic(word, board, position)}\"\n",
    "\n",
    "    pos = list(position)\n",
    "    for char in word[:-1]:\n",
    "        # ic(pos, char)\n",
    "        board_char = board[height - pos[1] - 1][pos[0]]\n",
    "        if board_char != char:\n",
    "            # ic(f\"DEBUG: Unmatch {char} and {board_char} at {pos}\")\n",
    "            return 0\n",
    "        # Advance to next character\n",
    "        move = movements[orientation]\n",
    "        # ic(\"Advance of\", move)\n",
    "        pos[0] += move[0]\n",
    "        if pos[0] < 0 or pos[0] >= width:\n",
    "            return 0\n",
    "        pos[1] += move[1]\n",
    "        if pos[1] < 0 or pos[1] >= height:\n",
    "            return 0\n",
    "\n",
    "    # Check last\n",
    "    board_char = board[height - pos[1] - 1][pos[0]]\n",
    "    if board_char != word[-1:]:\n",
    "        # ic(f\"DEBUG: Unmatch {char} and {board_char} at {pos}\")\n",
    "        return 0\n",
    "    \n",
    "    # ic(f\"DEBUG: {word} match starting at {position}, orientation={orientation}\")\n",
    "    return 1"
   ]
  },
  {
   "cell_type": "code",
   "execution_count": 4,
   "id": "2672708d-3eec-4410-80bd-2e5cb40f6ab3",
   "metadata": {},
   "outputs": [],
   "source": [
    "def find_word_at(word, board, position):\n",
    "    \"\"\"\n",
    "    Find a word on board starting at coordinate position=(x,y)\n",
    "    \n",
    "    position: (x, y) - (0, 0) is lower left\n",
    "    \n",
    "    Return number of occurrencies found\n",
    "    \"\"\"\n",
    "    \n",
    "    # ic(word, board, position)\n",
    "\n",
    "    total = 0\n",
    "    total += find_word_across(word, board, position, \"N\")\n",
    "    total += find_word_across(word, board, position, \"S\")\n",
    "    total += find_word_across(word, board, position, \"E\")\n",
    "    total += find_word_across(word, board, position, \"W\")\n",
    "    total += find_word_across(word, board, position, \"NE\")\n",
    "    total += find_word_across(word, board, position, \"NW\")\n",
    "    total += find_word_across(word, board, position, \"SE\")\n",
    "    total += find_word_across(word, board, position, \"SW\")\n",
    "    \n",
    "    return total"
   ]
  },
  {
   "cell_type": "code",
   "execution_count": 5,
   "id": "8d23c8b5-785f-4bfb-8702-f16a064d607b",
   "metadata": {},
   "outputs": [],
   "source": [
    "def find_word_in_board(word, board):\n",
    "    \"\"\"\n",
    "    Find a word on board\n",
    "    Return number of occurrencies found\n",
    "    \"\"\"\n",
    "\n",
    "    # ic()\n",
    "    # ic(word, board)\n",
    "\n",
    "    total = 0\n",
    "    height = len(board)\n",
    "    width = len(board[0])\n",
    "\n",
    "    ic(width, height)\n",
    "    for x in range(width):\n",
    "        for y in range(height):\n",
    "            total += find_word_at(word, board, (x, y))\n",
    "\n",
    "    return total"
   ]
  },
  {
   "cell_type": "code",
   "execution_count": 6,
   "id": "5bd62597-fcb7-47ea-87c7-b926c93630b3",
   "metadata": {},
   "outputs": [],
   "source": [
    "def char_at(board, position):\n",
    "    \"\"\"\n",
    "    Find a character on board\n",
    "    Return a string with the character\n",
    "    \"\"\"\n",
    "\n",
    "    height = len(board)\n",
    "    width = len(board[0])\n",
    "    \n",
    "    assert position[0] >= 0 and position[0] < width, f\"{ic(word, board, position)}\"\n",
    "    assert position[1] >= 0 and position[1] < height, f\"{ic(word, board, position)}\"\n",
    "\n",
    "    board_char = board[height - position[1] - 1][position[0]]\n",
    "    \n",
    "    return board_char"
   ]
  },
  {
   "cell_type": "code",
   "execution_count": 7,
   "id": "38ba741d-7b92-474b-bf73-f479cffdb44d",
   "metadata": {},
   "outputs": [],
   "source": [
    "def find_cross_at_pos(board, position):\n",
    "\n",
    "    width = len(board[0])\n",
    "    height = len(board)\n",
    "\n",
    "    total = 0\n",
    "\n",
    "    x = position[0]\n",
    "    y = position[1]\n",
    "\n",
    "    # ic(\"find_cross_at_pos\", x, y)\n",
    "\n",
    "    if x < 1 or x+1 > width - 1:\n",
    "        return 0\n",
    "    if y < 1 or y+1 > height - 1:\n",
    "        return 0\n",
    "    \n",
    "    if char_at(board, (x, y)) != \"A\":\n",
    "        return 0\n",
    "        \n",
    "    # ic(f\"A found at ({x},{y})\")\n",
    "    \n",
    "    if char_at(board, (x-1, y+1)) == \"M\" and char_at(board, (x+1, y-1)) == \"S\":\n",
    "        if char_at(board, (x-1, y-1)) == \"M\" and char_at(board, (x+1, y+1)) == \"S\":\n",
    "            return 1\n",
    "        elif char_at(board, (x-1, y-1)) == \"S\" and char_at(board, (x+1, y+1)) == \"M\":\n",
    "            return 1\n",
    "        else:\n",
    "            return 0\n",
    "\n",
    "    if char_at(board, (x-1, y+1)) == \"S\" and char_at(board, (x+1, y-1)) == \"M\":\n",
    "        if char_at(board, (x-1, y-1)) == \"M\" and char_at(board, (x+1, y+1)) == \"S\":\n",
    "            return 1\n",
    "        elif char_at(board, (x-1, y-1)) == \"S\" and char_at(board, (x+1, y+1)) == \"M\":\n",
    "            return 1\n",
    "        else:\n",
    "            return 0\n",
    "    \n",
    "    return 0"
   ]
  },
  {
   "cell_type": "code",
   "execution_count": 8,
   "id": "8e7df71f-c2c7-411b-8f16-4f7b4d30522a",
   "metadata": {},
   "outputs": [],
   "source": [
    "def find_cross_in_board(board):\n",
    "\n",
    "    width = len(board[0])\n",
    "    height = len(board)\n",
    "    \n",
    "    # ic(width, height, board)\n",
    "    \n",
    "    total = 0\n",
    "\n",
    "    for x in range(1, width-1):\n",
    "        for y in range(1, height-1):\n",
    "            total += find_cross_at_pos(board, (x, y))                \n",
    "            ...\n",
    "    \n",
    "    return total"
   ]
  },
  {
   "cell_type": "markdown",
   "id": "77466af9-01cd-45e3-b37c-bcaf0e716aab",
   "metadata": {},
   "source": [
    "## Test Patterns"
   ]
  },
  {
   "cell_type": "code",
   "execution_count": 9,
   "id": "a8c2b044-3430-42b6-bb94-95d56950bd2c",
   "metadata": {},
   "outputs": [],
   "source": [
    "part1_test1 = \"\"\"..X...\n",
    ".SAMX.\n",
    ".A..A.\n",
    "XMAS.S\n",
    ".X....\n",
    "\"\"\""
   ]
  },
  {
   "cell_type": "code",
   "execution_count": 10,
   "id": "96c152a4-182b-463e-8dcc-42b20ab9916a",
   "metadata": {},
   "outputs": [],
   "source": [
    "part1_test2 = \"\"\"MMMSXXMASM\n",
    "MSAMXMSMSA\n",
    "AMXSXMAAMM\n",
    "MSAMASMSMX\n",
    "XMASAMXAMM\n",
    "XXAMMXXAMA\n",
    "SMSMSASXSS\n",
    "SAXAMASAAA\n",
    "MAMMMXMMMM\n",
    "MXMXAXMASX\n",
    "\"\"\""
   ]
  },
  {
   "cell_type": "code",
   "execution_count": 11,
   "id": "0cb79ad0-9479-46cf-aaa3-2d68152e3f77",
   "metadata": {},
   "outputs": [],
   "source": [
    "part2_test1 = \"\"\"M.S\n",
    ".A.\n",
    "M.S\n",
    "\"\"\""
   ]
  },
  {
   "cell_type": "code",
   "execution_count": 12,
   "id": "dd72bd6a-eb4e-4799-8c44-5e0721fd368e",
   "metadata": {},
   "outputs": [],
   "source": [
    "part2_test2 = \"\"\".M.S......\n",
    "..A..MSMS.\n",
    ".M.S.MAA..\n",
    "..A.ASMSM.\n",
    ".M.S.M....\n",
    "..........\n",
    "S.S.S.S.S.\n",
    ".A.A.A.A..\n",
    "M.M.M.M.M.\n",
    "..........\n",
    "\"\"\""
   ]
  },
  {
   "cell_type": "markdown",
   "id": "3c8038fc-40c1-4442-bd9d-59270c178ed1",
   "metadata": {},
   "source": [
    "## Parse input"
   ]
  },
  {
   "cell_type": "code",
   "execution_count": 13,
   "id": "9cf5cd67-c278-4037-8002-bc6b9308193d",
   "metadata": {},
   "outputs": [],
   "source": [
    "checkerboard = list()\n",
    "\n",
    "FILENAME = \"day04-input-gmacario.txt\"\n",
    "\n",
    "with open(FILENAME, 'r') as file:\n",
    "    input_text = file.read()\n",
    "\n",
    "# input_text = part1_test1 # DEBUG\n",
    "# input_text = part1_test2 # DEBUG\n",
    "\n",
    "# input_text = part2_test1 # DEBUG\n",
    "# input_text = part2_test2 # DEBUG\n",
    "\n",
    "# ic(input_text)\n",
    "\n",
    "lineno = 0\n",
    "for line in input_text.splitlines():\n",
    "    lineno += 1\n",
    "    # ic(lineno, line)\n",
    "    checkerboard.append(list(line))"
   ]
  },
  {
   "cell_type": "code",
   "execution_count": 14,
   "id": "fb02256a-b564-4242-9635-6f6e276a9577",
   "metadata": {
    "scrolled": true
   },
   "outputs": [],
   "source": [
    "# Sanity Checks\n",
    "\n",
    "# ic(checkerboard)"
   ]
  },
  {
   "cell_type": "markdown",
   "id": "a7d266d2-d9c7-4a79-9df3-3574da1d0ba3",
   "metadata": {},
   "source": [
    "## Part 1: Find XMAS"
   ]
  },
  {
   "cell_type": "code",
   "execution_count": 15,
   "id": "7fe4596c-be12-4002-824a-3836cb351d5c",
   "metadata": {},
   "outputs": [],
   "source": [
    "# part1_test1\n",
    "#\n",
    "# find_word_across(\"XMAS\", checkerboard, (0,1), \"E\")\n",
    "#\n",
    "# find_word_at(\"XMAS\", checkerboard, (1,0))"
   ]
  },
  {
   "cell_type": "code",
   "execution_count": 16,
   "id": "db67d781-8902-44a2-97c3-d9402a8686eb",
   "metadata": {},
   "outputs": [],
   "source": [
    "# part1_test2\n",
    "#\n",
    "# find_word_across(\"XMAS\", checkerboard, (3,0), \"NW\")\n",
    "# find_word_across(\"XMAS\", checkerboard, (9,6), \"S\")\n",
    "# find_word_across(\"XMAS\", checkerboard, (5,9), \"E\")\n",
    "# find_word_across(\"XMAS\", checkerboard, (9,6), \"S\")\n",
    "#\n",
    "# find_word_at(\"XMAS\", checkerboard, (9,9))\n",
    "# find_word_at(\"XMAS\", checkerboard, (5,9))"
   ]
  },
  {
   "cell_type": "code",
   "execution_count": 17,
   "id": "f3764b52-eec3-44b4-baee-90fff6e6a837",
   "metadata": {},
   "outputs": [
    {
     "name": "stderr",
     "output_type": "stream",
     "text": [
      "ic| width: 140, height: 140\n"
     ]
    },
    {
     "data": {
      "text/plain": [
       "2642"
      ]
     },
     "execution_count": 17,
     "metadata": {},
     "output_type": "execute_result"
    }
   ],
   "source": [
    "find_word_in_board(\"XMAS\", checkerboard)"
   ]
  },
  {
   "cell_type": "markdown",
   "id": "e87a9ec5-652a-4168-8fbf-9eb0fca73e3d",
   "metadata": {
    "collapsed": true,
    "jupyter": {
     "outputs_hidden": true
    }
   },
   "source": [
    "## Part 2: Find X-MAS"
   ]
  },
  {
   "cell_type": "code",
   "execution_count": 18,
   "id": "6848e4af-67c7-4289-8f28-0a227aaa670d",
   "metadata": {},
   "outputs": [
    {
     "data": {
      "text/plain": [
       "1974"
      ]
     },
     "execution_count": 18,
     "metadata": {},
     "output_type": "execute_result"
    }
   ],
   "source": [
    "find_cross_in_board(checkerboard)"
   ]
  }
 ],
 "metadata": {
  "kernelspec": {
   "display_name": "Python 3 (ipykernel)",
   "language": "python",
   "name": "python3"
  },
  "language_info": {
   "codemirror_mode": {
    "name": "ipython",
    "version": 3
   },
   "file_extension": ".py",
   "mimetype": "text/x-python",
   "name": "python",
   "nbconvert_exporter": "python",
   "pygments_lexer": "ipython3",
   "version": "3.11.10"
  }
 },
 "nbformat": 4,
 "nbformat_minor": 5
}
