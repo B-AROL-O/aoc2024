{
 "cells": [
  {
   "cell_type": "code",
   "execution_count": 1,
   "id": "864d7eac-0dae-422a-b216-1b7fc760e19d",
   "metadata": {},
   "outputs": [],
   "source": [
    "FILENAME = \"test.txt\"\n",
    "# FILENAME = \"input-gm.txt\""
   ]
  },
  {
   "cell_type": "code",
   "execution_count": 2,
   "id": "f008cff8-ae1b-40bb-866c-3e7c6adee92e",
   "metadata": {},
   "outputs": [],
   "source": [
    "with open(FILENAME) as file:\n",
    "    # lines = [line.rstrip() for line in file]\n",
    "    lines = []\n",
    "    for line in file:\n",
    "        seq = [int(item) for item in line.split()]\n",
    "        lines.append(seq)\n",
    "\n",
    "# print(lines)"
   ]
  },
  {
   "cell_type": "code",
   "execution_count": 3,
   "id": "ca3f2b81-a4ec-478a-9b13-fefe70642b1d",
   "metadata": {},
   "outputs": [],
   "source": [
    "def is_safe(seq):\n",
    "    \"\"\"\n",
    "    Return True if the sequence is safe according to the rules\n",
    "    \"\"\"\n",
    "    # Check if all increasing\n",
    "    prev_item = seq[0] - 1\n",
    "    all_increasing = True\n",
    "    for item in seq:\n",
    "        if not (0 < item - prev_item < 4): \n",
    "            all_increasing = False\n",
    "            break\n",
    "        prev_item = item\n",
    "    # print(f\"{seq} all_increasing = {all_increasing}\")\n",
    "    if all_increasing:\n",
    "        return True\n",
    "    # Check if all decreasing\n",
    "    prev_item = seq[0] + 1\n",
    "    all_decreasing = True\n",
    "    for item in seq:\n",
    "        if not (0 < prev_item - item < 4): \n",
    "            all_decreasing = False\n",
    "            break\n",
    "        prev_item = item\n",
    "    # print(f\"{seq} all_decreasing = {all_decreasing}\")\n",
    "    if all_decreasing:\n",
    "        return True\n",
    "    return False"
   ]
  },
  {
   "cell_type": "code",
   "execution_count": 4,
   "id": "5153ddb8-190a-481d-a34d-2c2d51cd2379",
   "metadata": {},
   "outputs": [
    {
     "name": "stdout",
     "output_type": "stream",
     "text": [
      "Part 1: Answer = 2\n"
     ]
    }
   ],
   "source": [
    "# Part 1: Count the number of safe sequences \n",
    "safe = 0\n",
    "for seq in lines:\n",
    "    if is_safe(seq):\n",
    "        # print(f\"DEBUG: seq {seq} is safe\")\n",
    "        safe += 1\n",
    "    else:\n",
    "        # print(f\"seq {seq} is unsafe\")\n",
    "        pass\n",
    "print(f\"Part 1: Answer = {safe}\")"
   ]
  },
  {
   "cell_type": "code",
   "execution_count": 5,
   "id": "dd9c6a9b-9029-4e3c-8b71-d2fb3de56df5",
   "metadata": {},
   "outputs": [
    {
     "name": "stdout",
     "output_type": "stream",
     "text": [
      "Part 2: Answer = 4\n"
     ]
    }
   ],
   "source": [
    "# Part 2: Try after removing one damper\n",
    "n_safe = 0\n",
    "for seq in lines:\n",
    "    # print(f\"DEBUG: checking seq = {seq}\")\n",
    "    for num in range(len(seq)):\n",
    "        # print(f\"DEBUG: num = {num}\")\n",
    "        seq_shorter = seq[:num] + seq[num+1:]\n",
    "        if (is_safe(seq_shorter)):\n",
    "            # print(f\"DEBUG: seq_shorter = {seq_shorter} is safe\")\n",
    "            n_safe += 1\n",
    "            break\n",
    "\n",
    "print(f\"Part 2: Answer = {n_safe}\")"
   ]
  },
  {
   "cell_type": "code",
   "execution_count": null,
   "id": "5c51bb22-bbd6-45d1-b3b1-d76115bc93a3",
   "metadata": {},
   "outputs": [],
   "source": []
  }
 ],
 "metadata": {
  "kernelspec": {
   "display_name": "Python 3 (ipykernel)",
   "language": "python",
   "name": "python3"
  },
  "language_info": {
   "codemirror_mode": {
    "name": "ipython",
    "version": 3
   },
   "file_extension": ".py",
   "mimetype": "text/x-python",
   "name": "python",
   "nbconvert_exporter": "python",
   "pygments_lexer": "ipython3",
   "version": "3.11.10"
  }
 },
 "nbformat": 4,
 "nbformat_minor": 5
}
