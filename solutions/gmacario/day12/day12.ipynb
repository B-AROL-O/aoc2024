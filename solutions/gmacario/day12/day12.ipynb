{
 "cells": [
  {
   "cell_type": "markdown",
   "id": "e8c36490-ac44-4e4f-9fc3-97d15fbef673",
   "metadata": {},
   "source": [
    "# AoC 2024 - Day 12\n",
    "\n",
    "<https://adventofcode.com/2024/day/12>"
   ]
  },
  {
   "cell_type": "code",
   "execution_count": 1,
   "id": "6b7c6dc6-b77c-47e0-ac97-33f7f86c484c",
   "metadata": {},
   "outputs": [],
   "source": [
    "# Parameters\n",
    "# \n",
    "day = 12\n",
    "\n",
    "FILENAME = \"day12_test1.txt\"\n",
    "# FILENAME = \"day12_test2.txt\"\n",
    "# FILENAME = \"day12_test3.txt\"\n",
    "# #\n",
    "# FILENAME = \"day12_input_gmacario.txt\""
   ]
  },
  {
   "cell_type": "code",
   "execution_count": 2,
   "id": "6c8149a1-7aed-4bfb-8ec9-748c65077d45",
   "metadata": {},
   "outputs": [],
   "source": [
    "# Import\n",
    "from collections import deque\n",
    "from icecream import ic\n",
    "import time"
   ]
  },
  {
   "cell_type": "markdown",
   "id": "f3458754-aa32-44e5-b229-4f519108459e",
   "metadata": {},
   "source": [
    "## Part 1"
   ]
  },
  {
   "cell_type": "code",
   "execution_count": null,
   "id": "b8ac6332-ebd1-424b-a781-df1771e81be8",
   "metadata": {},
   "outputs": [],
   "source": [
    "# Read the puzzle input into a list of strings, one per line\n",
    "#\n",
    "with open(FILENAME, 'r') as file:\n",
    "    input_lines = [line.rstrip() for line in file]\n",
    "\n",
    "ic(time.ctime())\n",
    "\n",
    "tm_begin = time.time()\n",
    "ic(time.ctime(tm_begin))"
   ]
  },
  {
   "cell_type": "code",
   "execution_count": null,
   "id": "6ac2a9c0-ef2f-496b-acd2-f8b47c89860b",
   "metadata": {},
   "outputs": [],
   "source": [
    "_ = ic(input_lines)\n",
    "\n",
    "map_state = []\n",
    "\n",
    "for l in input_lines:\n",
    "    map_state.append(list(l))\n",
    "\n",
    "map_width = len(map_state[0])\n",
    "map_height = len(map_state)\n",
    "\n",
    "_ = ic(map_width, map_height)\n",
    "_ = ic(map_state) if map_width < 20 else None"
   ]
  },
  {
   "cell_type": "code",
   "execution_count": null,
   "id": "793a08d6-09b2-45be-86a8-96b2a41891e3",
   "metadata": {},
   "outputs": [],
   "source": [
    "def solve_part1():\n",
    "    DIRECTIONS = [(-1,0),(1,0),(0,-1),(0,1)]\n",
    "    seen = set()\n",
    "    p1 = 0\n",
    "    for r in range(map_height):\n",
    "        for c in range(map_width):\n",
    "            if (r,c) in seen:\n",
    "                continue\n",
    "            q = deque([(r,c)])\n",
    "            # ic(q, seen)\n",
    "            area = 0\n",
    "            perim = 0\n",
    "            while q:\n",
    "                r2,c2 = q.popleft()\n",
    "                if (r2,c2) in seen:\n",
    "                    continue\n",
    "                seen.add((r2,c2))\n",
    "                area += 1\n",
    "                for dr,dc in DIRECTIONS:\n",
    "                    r3,c3 = r2+dr,c2+dc\n",
    "                    if 0 <= r3 < map_height and 0 <= c3 < map_width and map_state[r3][c3] == map_state[r2][c2]:\n",
    "                        q.append((r3,c3))\n",
    "                    else:\n",
    "                        perim += 1\n",
    "            # ic((r,c), area, perim)\n",
    "            p1 += area * perim\n",
    "    # ic(p1)\n",
    "    return p1\n",
    "\n",
    "# tm_begin = time.time()\n",
    "part1_result = solve_part1()\n",
    "tm_end = time.time()\n",
    "ic(\"elapsed=\", tm_end - tm_begin, \"result=\", part1_result)\n",
    "print(f\"Day {day} Part 1 RESULT:\")\n",
    "print(part1_result)"
   ]
  },
  {
   "cell_type": "markdown",
   "id": "fc439b96-c48d-482f-a0c9-a63572f7b7de",
   "metadata": {},
   "source": [
    "## Part 2"
   ]
  },
  {
   "cell_type": "code",
   "execution_count": 6,
   "id": "0eac7bf8-becc-40de-a3d2-f81ca298b2e5",
   "metadata": {},
   "outputs": [],
   "source": [
    "# TODO"
   ]
  },
  {
   "cell_type": "code",
   "execution_count": 8,
   "id": "8555a6fb-c520-46f9-b6da-46cdc09b0ee7",
   "metadata": {},
   "outputs": [],
   "source": [
    "# TODO"
   ]
  },
  {
   "cell_type": "code",
   "execution_count": null,
   "id": "51de10dc-4093-4fce-bd21-50ef40cdf1dd",
   "metadata": {},
   "outputs": [],
   "source": [
    "def solve_part2():\n",
    "    result = False\n",
    "    ...\n",
    "    return result\n",
    "\n",
    "# tm_begin = time.time()\n",
    "part2_result = solve_part2()\n",
    "tm_end = time.time()\n",
    "ic(\"elapsed=\", tm_end - tm_begin, \"result=\", part2_result)\n",
    "print(f\"Day {day} Part 2 RESULT:\")\n",
    "print(part2_result)"
   ]
  }
 ],
 "metadata": {
  "kernelspec": {
   "display_name": "aoc-2024-9IjWec8A-py3.12",
   "language": "python",
   "name": "python3"
  },
  "language_info": {
   "codemirror_mode": {
    "name": "ipython",
    "version": 3
   },
   "file_extension": ".py",
   "mimetype": "text/x-python",
   "name": "python",
   "nbconvert_exporter": "python",
   "pygments_lexer": "ipython3",
   "version": "3.12.3"
  }
 },
 "nbformat": 4,
 "nbformat_minor": 5
}
